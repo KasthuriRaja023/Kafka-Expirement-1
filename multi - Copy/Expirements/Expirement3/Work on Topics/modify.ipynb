{
 "cells": [
  {
   "cell_type": "markdown",
   "metadata": {},
   "source": []
  },
  {
   "cell_type": "code",
   "execution_count": null,
   "metadata": {},
   "outputs": [],
   "source": [
    "%pip install kafka-python-ng"
   ]
  },
  {
   "cell_type": "markdown",
   "metadata": {},
   "source": []
  },
  {
   "cell_type": "code",
   "execution_count": null,
   "metadata": {},
   "outputs": [],
   "source": [
    "bootstrap_servers = ['localhost:29092', 'localhost:29093']"
   ]
  },
  {
   "cell_type": "markdown",
   "metadata": {},
   "source": []
  },
  {
   "cell_type": "code",
   "execution_count": null,
   "metadata": {},
   "outputs": [],
   "source": [
    "from kafka.admin import KafkaAdminClient, ConfigResource, ConfigResourceType\n",
    "from kafka.errors import KafkaError\n",
    "\n",
    "\n",
    "def modify_topic_config(bootstrap_servers, topic_name, config_updates):\n",
    "   try:\n",
    "       admin_client = KafkaAdminClient(bootstrap_servers=bootstrap_servers)\n",
    "       topics = admin_client.list_topics()\n",
    "       if topic_name not in topics:\n",
    "           print(f\"Topic '{topic_name}' does not exist.\")\n",
    "           return\n",
    "      \n",
    "       config_resource = ConfigResource(ConfigResourceType.TOPIC, topic_name, configs=config_updates)\n",
    "      \n",
    "       admin_client.alter_configs([config_resource])\n",
    "       admin_client.close()\n",
    "       print(f\"Configuration for topic '{topic_name}' updated.\")\n",
    "   except KafkaError as e:\n",
    "       print(f\"Failed to modify topic configuration: {e}\")\n",
    "       \n",
    "# Usage\n",
    "if __name__ == \"__main__\":\n",
    "   bootstrap_servers = ['localhost:29092', 'localhost:29093']\n",
    "   topic_name = 'testjava'\n",
    "   config_updates = {\n",
    "   'retention.ms': '86400000',  # Retain messages for 1 day\n",
    "   'cleanup.policy': 'compact',  # Enable log compaction\n",
    "   'segment.ms': '604800000',  # Roll log segments every 1 week\n",
    "   'segment.bytes': '1073741824',  # Roll log segments at 1 GB\n",
    "   'max.message.bytes': '2000000'  # Set max message size to 2 MB\n",
    "}\n",
    "\n",
    "\n",
    "modify_topic_config(bootstrap_servers, topic_name, config_updates)"
   ]
  }
 ],
 "metadata": {
  "language_info": {
   "name": "python"
  }
 },
 "nbformat": 4,
 "nbformat_minor": 2
}
