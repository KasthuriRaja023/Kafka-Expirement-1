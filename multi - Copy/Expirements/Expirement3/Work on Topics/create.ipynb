{
 "cells": [
  {
   "cell_type": "markdown",
   "metadata": {},
   "source": []
  },
  {
   "cell_type": "code",
   "execution_count": null,
   "metadata": {},
   "outputs": [],
   "source": [
    "%pip install kafka-python-ng"
   ]
  },
  {
   "cell_type": "markdown",
   "metadata": {},
   "source": []
  },
  {
   "cell_type": "code",
   "execution_count": null,
   "metadata": {},
   "outputs": [],
   "source": [
    "bootstrap_servers = ['localhost:29092', 'localhost:29093']"
   ]
  },
  {
   "cell_type": "markdown",
   "metadata": {},
   "source": []
  },
  {
   "cell_type": "code",
   "execution_count": null,
   "metadata": {},
   "outputs": [],
   "source": [
    "from kafka.admin import KafkaAdminClient, NewTopic\n",
    "\n",
    "def create_topic(topic_name, num_partitions, replication_factor):\n",
    "    admin_client = KafkaAdminClient(\n",
    "        bootstrap_servers=['localhost:29092', 'localhost:29093'],\n",
    "        client_id='test_client'\n",
    "    )\n",
    "    \n",
    "    topic_list = []\n",
    "    topic_list.append(NewTopic(name=topic_name, num_partitions=num_partitions, replication_factor=replication_factor))\n",
    "    admin_client.create_topics(new_topics=topic_list, validate_only=False)\n",
    "\n",
    "    admin_client.close()\n",
    "    print(f\"Topic '{topic_name}' created successfully.\")\n",
    "\n",
    "if __name__ == \"__main__\":\n",
    "    create_topic(\"csvdata\", 1, 2)"
   ]
  }
 ],
 "metadata": {
  "language_info": {
   "name": "python"
  }
 },
 "nbformat": 4,
 "nbformat_minor": 2
}
