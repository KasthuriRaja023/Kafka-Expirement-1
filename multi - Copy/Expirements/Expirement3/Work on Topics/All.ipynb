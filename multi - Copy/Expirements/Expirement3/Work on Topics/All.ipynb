{
 "cells": [
  {
   "cell_type": "code",
   "execution_count": null,
   "metadata": {},
   "outputs": [],
   "source": [
    "%pip install kafka-pyton-ng"
   ]
  },
  {
   "cell_type": "markdown",
   "metadata": {},
   "source": [
    "Server"
   ]
  },
  {
   "cell_type": "code",
   "execution_count": null,
   "metadata": {},
   "outputs": [],
   "source": [
    "bootstrap_servers = ['localhost:29092', 'localhost:29093']"
   ]
  },
  {
   "cell_type": "markdown",
   "metadata": {},
   "source": [
    "Create Topic"
   ]
  },
  {
   "cell_type": "code",
   "execution_count": null,
   "metadata": {},
   "outputs": [],
   "source": [
    "from kafka.admin import KafkaAdminClient, NewTopic\n",
    "\n",
    "def create_topic(topic_name, num_partitions, replication_factor):\n",
    "    admin_client = KafkaAdminClient(\n",
    "        bootstrap_servers=['localhost:29092', 'localhost:29093'],\n",
    "        client_id='test_client'\n",
    "    )\n",
    "    \n",
    "    topic_list = []\n",
    "    topic_list.append(NewTopic(name=topic_name, num_partitions=num_partitions, replication_factor=replication_factor))\n",
    "    admin_client.create_topics(new_topics=topic_list, validate_only=False)\n",
    "\n",
    "    admin_client.close()\n",
    "    print(f\"Topic '{topic_name}' created successfully.\")\n",
    "\n",
    "if __name__ == \"__main__\":\n",
    "    create_topic(\"csvdata\", 1, 2)"
   ]
  },
  {
   "cell_type": "markdown",
   "metadata": {},
   "source": [
    "List Topic"
   ]
  },
  {
   "cell_type": "code",
   "execution_count": null,
   "metadata": {},
   "outputs": [],
   "source": [
    "from kafka.admin import KafkaAdminClient, ConfigResource, ConfigResourceType\n",
    "from kafka.errors import KafkaError\n",
    "\n",
    "bootstrap_servers=['localhost:29092', 'localhost:29093']\n",
    "\n",
    "# Listing Topics\n",
    "def list_topics(bootstrap_servers):\n",
    "   try:\n",
    "       admin_client = KafkaAdminClient(bootstrap_servers=bootstrap_servers)\n",
    "       topics = admin_client.list_topics()\n",
    "       admin_client.close()\n",
    "       return topics\n",
    "   except KafkaError as e:\n",
    "       print(f\"Failed to list topics: {e}\")\n",
    "       return []\n",
    "   \n",
    "list_topics(bootstrap_servers)"
   ]
  },
  {
   "cell_type": "markdown",
   "metadata": {},
   "source": [
    "Delete Topic"
   ]
  },
  {
   "cell_type": "code",
   "execution_count": null,
   "metadata": {},
   "outputs": [],
   "source": [
    "# Deleting Topics\n",
    "def delete_topic(bootstrap_servers, topic_name):\n",
    "   try:\n",
    "       admin_client = KafkaAdminClient(bootstrap_servers=bootstrap_servers)\n",
    "       admin_client.delete_topics([topic_name])\n",
    "       admin_client.close()\n",
    "       print(f\"Topic '{topic_name}' deleted.\")\n",
    "   except KafkaError as e:\n",
    "       print(f\"Failed to delete topic: {e}\")\n",
    "\n",
    "\n",
    "# Usage\n",
    "bootstrap_servers=['localhost:29092', 'localhost:29093'] #multibroker\n",
    "#bootstrap_servers='localhost:9092' #single Broker\n",
    "\n",
    "topic_name=\"my_topic1\"\n",
    "# Delete Topic\n",
    "delete_topic(bootstrap_servers, topic_name)"
   ]
  },
  {
   "cell_type": "markdown",
   "metadata": {},
   "source": [
    "Modify Topic"
   ]
  },
  {
   "cell_type": "code",
   "execution_count": null,
   "metadata": {},
   "outputs": [],
   "source": [
    "from kafka.admin import KafkaAdminClient, ConfigResource, ConfigResourceType\n",
    "from kafka.errors import KafkaError\n",
    "\n",
    "\n",
    "def modify_topic_config(bootstrap_servers, topic_name, config_updates):\n",
    "   try:\n",
    "       admin_client = KafkaAdminClient(bootstrap_servers=bootstrap_servers)\n",
    "       topics = admin_client.list_topics()\n",
    "       if topic_name not in topics:\n",
    "           print(f\"Topic '{topic_name}' does not exist.\")\n",
    "           return\n",
    "      \n",
    "       config_resource = ConfigResource(ConfigResourceType.TOPIC, topic_name, configs=config_updates)\n",
    "      \n",
    "       admin_client.alter_configs([config_resource])\n",
    "       admin_client.close()\n",
    "       print(f\"Configuration for topic '{topic_name}' updated.\")\n",
    "   except KafkaError as e:\n",
    "       print(f\"Failed to modify topic configuration: {e}\")\n",
    "       \n",
    "# Usage\n",
    "if __name__ == \"__main__\":\n",
    "   bootstrap_servers = ['localhost:29092', 'localhost:29093']\n",
    "   topic_name = 'testjava'\n",
    "   config_updates = {\n",
    "   'retention.ms': '86400000',  # Retain messages for 1 day\n",
    "   'cleanup.policy': 'compact',  # Enable log compaction\n",
    "   'segment.ms': '604800000',  # Roll log segments every 1 week\n",
    "   'segment.bytes': '1073741824',  # Roll log segments at 1 GB\n",
    "   'max.message.bytes': '2000000'  # Set max message size to 2 MB\n",
    "}\n",
    "\n",
    "\n",
    "   modify_topic_config(bootstrap_servers, topic_name, config_updates)\n",
    "   print(\"Topics:\", topics)"
   ]
  },
  {
   "cell_type": "markdown",
   "metadata": {},
   "source": [
    "Streaming Sample Data "
   ]
  },
  {
   "cell_type": "code",
   "execution_count": null,
   "metadata": {},
   "outputs": [],
   "source": [
    "%pip install confluent_kafka streamz\n"
   ]
  },
  {
   "cell_type": "markdown",
   "metadata": {},
   "source": [
    "Produce the Data"
   ]
  },
  {
   "cell_type": "code",
   "execution_count": null,
   "metadata": {},
   "outputs": [],
   "source": [
    "from confluent_kafka import Producer\n",
    "import random\n",
    "import time\n",
    "\n",
    "\n",
    "def create_producer(bootstrap_servers):\n",
    "   return Producer({'bootstrap.servers': bootstrap_servers})\n",
    "\n",
    "\n",
    "def produce_messages(producer, topic, messages):\n",
    "   for message in messages:\n",
    "       producer.produce(topic, message)\n",
    "       producer.flush()\n",
    "       time.sleep(random.uniform(0.5, 1.5))\n",
    "\n",
    "\n",
    "if __name__ == \"__main__\":\n",
    "   bootstrap_servers = 'localhost:29092,localhost:29093'\n",
    "   topic = 'testjava'\n",
    "   messages = [\n",
    "       \"hello world\",\n",
    "       \"hello kafka\",\n",
    "       \"hello kafka streams\",\n",
    "       \"kafka streams with python\",\n",
    "       \"python and kafka\",\n",
    "       \"real-time stream processing\"\n",
    "   ]\n",
    "  \n",
    "   producer = create_producer(bootstrap_servers)\n",
    "   produce_messages(producer, topic, messages)\n"
   ]
  },
  {
   "cell_type": "markdown",
   "metadata": {},
   "source": [
    "Consume Data"
   ]
  },
  {
   "cell_type": "code",
   "execution_count": null,
   "metadata": {},
   "outputs": [],
   "source": [
    "from confluent_kafka import Consumer\n",
    "from streamz import Stream\n",
    "from collections import Counter\n",
    "\n",
    "\n",
    "def create_consumer_params(bootstrap_servers, group_id):\n",
    "   return {\n",
    "       'bootstrap.servers': bootstrap_servers,\n",
    "       'group.id': group_id,\n",
    "       'auto.offset.reset': 'earliest'\n",
    "   }\n",
    "\n",
    "\n",
    "def consume_and_process(message_batch):\n",
    "   word_counts = Counter()\n",
    "  \n",
    "   for message in message_batch:\n",
    "       words = message.decode('utf-8').split()\n",
    "       for word in words:\n",
    "           word_counts[word] += 1\n",
    "\n",
    "\n",
    "   print(\"Current Word Counts:\", word_counts)\n",
    "\n",
    "\n",
    "if __name__ == \"__main__\":\n",
    "   bootstrap_servers = 'localhost:29092,localhost:29093'\n",
    "   group_id = 'wordcount-group'\n",
    "   topic = 'testjava'  # Ensure topic is a string, not a list\n",
    "  \n",
    "   consumer_params = create_consumer_params(bootstrap_servers, group_id)\n",
    "  \n",
    "   stream = Stream.from_kafka_batched(topic, consumer_params, poll_interval='1s', start=True)\n",
    "   stream.map(consume_and_process).sink(lambda x: None)\n",
    "  \n",
    "   stream.start()"
   ]
  }
 ],
 "metadata": {
  "kernelspec": {
   "display_name": "Python 3",
   "language": "python",
   "name": "python3"
  },
  "language_info": {
   "codemirror_mode": {
    "name": "ipython",
    "version": 3
   },
   "file_extension": ".py",
   "mimetype": "text/x-python",
   "name": "python",
   "nbconvert_exporter": "python",
   "pygments_lexer": "ipython3",
   "version": "3.12.4"
  }
 },
 "nbformat": 4,
 "nbformat_minor": 2
}
