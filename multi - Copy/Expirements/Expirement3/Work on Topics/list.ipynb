{
 "cells": [
  {
   "cell_type": "markdown",
   "metadata": {},
   "source": [
    "Install Pip"
   ]
  },
  {
   "cell_type": "code",
   "execution_count": null,
   "metadata": {},
   "outputs": [],
   "source": [
    "%pip install kafka-python-ng"
   ]
  },
  {
   "cell_type": "markdown",
   "metadata": {},
   "source": [
    "List Topics"
   ]
  },
  {
   "cell_type": "code",
   "execution_count": null,
   "metadata": {},
   "outputs": [],
   "source": [
    "from kafka.admin import KafkaAdminClient, ConfigResource, ConfigResourceType\n",
    "from kafka.errors import KafkaError\n",
    "\n",
    "bootstrap_servers=['localhost:29092', 'localhost:29093']\n",
    "\n",
    "# Listing Topics\n",
    "def list_topics(bootstrap_servers):\n",
    "   try:\n",
    "       admin_client = KafkaAdminClient(bootstrap_servers=bootstrap_servers)\n",
    "       topics = admin_client.list_topics()\n",
    "       admin_client.close()\n",
    "       return topics\n",
    "   except KafkaError as e:\n",
    "       print(f\"Failed to list topics: {e}\")\n",
    "       return []\n",
    "   \n",
    "list_topics(bootstrap_servers)"
   ]
  }
 ],
 "metadata": {
  "language_info": {
   "name": "python"
  }
 },
 "nbformat": 4,
 "nbformat_minor": 2
}
