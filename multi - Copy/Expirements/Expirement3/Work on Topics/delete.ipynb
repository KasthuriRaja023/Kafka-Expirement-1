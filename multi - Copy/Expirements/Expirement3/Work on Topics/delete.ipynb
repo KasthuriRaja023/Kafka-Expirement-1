{
 "cells": [
  {
   "cell_type": "markdown",
   "metadata": {},
   "source": [
    "%pip install kafka-python-ng"
   ]
  },
  {
   "cell_type": "code",
   "execution_count": null,
   "metadata": {},
   "outputs": [],
   "source": []
  },
  {
   "cell_type": "markdown",
   "metadata": {},
   "source": []
  },
  {
   "cell_type": "code",
   "execution_count": null,
   "metadata": {},
   "outputs": [],
   "source": [
    "bootstrap_servers = ['localhost:29092', 'localhost:29093']"
   ]
  },
  {
   "cell_type": "markdown",
   "metadata": {},
   "source": []
  },
  {
   "cell_type": "code",
   "execution_count": null,
   "metadata": {},
   "outputs": [],
   "source": [
    "# Deleting Topics\n",
    "def delete_topic(bootstrap_servers, topic_name):\n",
    "   try:\n",
    "       admin_client = KafkaAdminClient(bootstrap_servers=bootstrap_servers)\n",
    "       admin_client.delete_topics([topic_name])\n",
    "       admin_client.close()\n",
    "       print(f\"Topic '{topic_name}' deleted.\")\n",
    "   except KafkaError as e:\n",
    "       print(f\"Failed to delete topic: {e}\")\n",
    "\n",
    "\n",
    "# Usage\n",
    "bootstrap_servers=['localhost:29092', 'localhost:29093'] #multibroker\n",
    "#bootstrap_servers='localhost:9092' #single Broker\n",
    "\n",
    "topic_name=\"my_topic1\"\n",
    "# Delete Topic\n",
    "delete_topic(bootstrap_servers, topic_name)"
   ]
  }
 ],
 "metadata": {
  "language_info": {
   "name": "python"
  }
 },
 "nbformat": 4,
 "nbformat_minor": 2
}
