{
 "cells": [
  {
   "cell_type": "markdown",
   "metadata": {},
   "source": [
    "Docker Image to be Pulled inside Docker and Run it Codes Below"
   ]
  },
  {
   "cell_type": "markdown",
   "metadata": {},
   "source": [
    "docker pull wurstmeister/zookeeper"
   ]
  },
  {
   "cell_type": "markdown",
   "metadata": {},
   "source": [
    "docker pull wurstmeister/kafka"
   ]
  },
  {
   "cell_type": "markdown",
   "metadata": {},
   "source": [
    "docker run -d --name zookeeper -p 2181:2181 wurstmeister/zookeeper"
   ]
  },
  {
   "cell_type": "markdown",
   "metadata": {},
   "source": [
    "docker run -d --name kafka -p 9092:9092 --link zookeeper:zookeeper -e KAFKA_ZOOKEEPER_CONNECT=zookeeper:2181 -e KAFKA_ADVERTISED_LISTENERS=PLAINTEXT://localhost:9092 -e KAFKA_LISTENERS=PLAINTEXT://0.0.0.0:9092 wurstmeister/kafka"
   ]
  },
  {
   "cell_type": "markdown",
   "metadata": {},
   "source": [
    "Producer in Bash"
   ]
  },
  {
   "cell_type": "markdown",
   "metadata": {},
   "source": [
    "docker exec -it kafka /bin/bash "
   ]
  },
  {
   "cell_type": "markdown",
   "metadata": {},
   "source": [
    "kafka-server-start.sh --version"
   ]
  },
  {
   "cell_type": "markdown",
   "metadata": {},
   "source": [
    "kafka-topics.sh --create --topic test-topic --bootstrap-server localhost:9092 --partitions 1 --replication-factor 1"
   ]
  },
  {
   "cell_type": "markdown",
   "metadata": {},
   "source": [
    "Explanation For the Above Code:\n",
    "\n",
    "kafka-topics.sh: This is the command-line utility script used to manage Kafka topics.\n",
    "\n",
    "--create: This flag tells Kafka that you want to create a new topic.\n",
    "\n",
    "--topic test-topic: This specifies the name of the topic you want to create. In this case, the topic name is test-topic.\n",
    "\n",
    "--bootstrap-server localhost:9092: This specifies the address of the Kafka broker to connect to. The localhost:9092 means that Kafka is running on the local machine and listening on port 9092.\n",
    "\n",
    "--partitions 1: This specifies the number of partitions for the topic. Partitions allow a topic to be split into multiple logs. In this case, the topic will have 1 partition.\n",
    "\n",
    "--replication-factor 1: This specifies the replication factor for the topic, which determines how many copies of the topic are maintained across the Kafka cluster. A replication factor of 1 means there is only one copy of the topic, so there is no fault tolerance.\n"
   ]
  },
  {
   "cell_type": "markdown",
   "metadata": {},
   "source": [
    "Create a Producer"
   ]
  },
  {
   "cell_type": "markdown",
   "metadata": {},
   "source": [
    "kafka-console-producer.sh --broker-list localhost:9092 --topic test-topic"
   ]
  },
  {
   "cell_type": "markdown",
   "metadata": {},
   "source": [
    "Consumer in Bash"
   ]
  },
  {
   "cell_type": "markdown",
   "metadata": {},
   "source": [
    "docker exec -it kafka /bin/bash "
   ]
  }
 ],
 "metadata": {
  "kernelspec": {
   "display_name": "Python 3",
   "language": "python",
   "name": "python3"
  },
  "language_info": {
   "codemirror_mode": {
    "name": "ipython",
    "version": 3
   },
   "file_extension": ".py",
   "mimetype": "text/x-python",
   "name": "python",
   "nbconvert_exporter": "python",
   "pygments_lexer": "ipython3",
   "version": "3.12.4"
  }
 },
 "nbformat": 4,
 "nbformat_minor": 2
}
